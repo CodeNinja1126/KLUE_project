{
 "cells": [
  {
   "cell_type": "code",
   "execution_count": 70,
   "id": "3bd81768-48ab-4c06-ab2f-ce930263a84c",
   "metadata": {},
   "outputs": [],
   "source": [
    "from collections import Counter\n",
    "import matplotlib.pyplot as plt\n",
    "import pandas as pd\n",
    "import numpy as np\n",
    "import torch\n",
    "from torch.utils.data import DataLoader, Dataset\n",
    "import pickle\n",
    "from transformers import AutoTokenizer, AutoModelForSequenceClassification\n",
    "from tqdm.notebook import tqdm"
   ]
  },
  {
   "cell_type": "markdown",
   "id": "76eaf4ee-9e9e-4033-9a1b-b269dabcdd46",
   "metadata": {},
   "source": [
    "모델 불러오기"
   ]
  },
  {
   "cell_type": "code",
   "execution_count": 51,
   "id": "56b39eaa-278d-4514-9afa-8e5e653d2710",
   "metadata": {},
   "outputs": [],
   "source": [
    "tokenizer = AutoTokenizer.from_pretrained('xlm-roberta-large')\n",
    "model = AutoModelForSequenceClassification.from_pretrained('/opt/ml/models/roberta_val_batch8_epoch7').to('cuda')"
   ]
  },
  {
   "cell_type": "markdown",
   "id": "cdfd1fb9-d49f-48fa-aabb-e742e40d7fd0",
   "metadata": {},
   "source": [
    "데이터 셋 만들기"
   ]
  },
  {
   "cell_type": "code",
   "execution_count": 13,
   "id": "21482a2e-0978-4343-b642-669b75c080cc",
   "metadata": {},
   "outputs": [],
   "source": [
    "class dataset(Dataset):\n",
    "    def __init__(self, tokenized_dataset, labels):\n",
    "        self.tokenized_dataset = tokenized_dataset\n",
    "        self.labels = labels\n",
    "\n",
    "    def __getitem__(self, idx):\n",
    "        item = {key: torch.tensor(val[idx]) for key, val in self.tokenized_dataset.items()}\n",
    "        item['labels'] = torch.tensor(self.labels[idx])\n",
    "        return item\n",
    "\n",
    "    def __len__(self):\n",
    "        return len(self.labels)\n",
    "    \n",
    "    \n",
    "def preprocessing_dataset(dataset, label_type):\n",
    "    label = []\n",
    "    for i in dataset[8]:\n",
    "        if i == 'blind':\n",
    "            label.append(100)\n",
    "        else:\n",
    "            label.append(label_type[i])\n",
    "        \n",
    "    out_dataset = pd.DataFrame({'sentence':dataset[1],'entity_01':dataset[2],'entity_02':dataset[5],'label':label,})\n",
    "    return out_dataset\n",
    "\n",
    "\n",
    "def tokenized_dataset(dataset, tokenizer):\n",
    "    concat_entity = []\n",
    "    for e01, e02 in zip(dataset['entity_01'], dataset['entity_02']):\n",
    "        temp = ''\n",
    "        temp = e01 + '[SEP]' + e02\n",
    "        concat_entity.append(temp)\n",
    "    tokenized_sentences = tokenizer(\n",
    "        concat_entity,\n",
    "        list(dataset['sentence']),\n",
    "        return_tensors=\"pt\",\n",
    "        padding=True,\n",
    "        truncation=True,\n",
    "        max_length=100,\n",
    "        add_special_tokens=True,\n",
    "        )\n",
    "    return tokenized_sentences"
   ]
  },
  {
   "cell_type": "code",
   "execution_count": 27,
   "id": "dce9663f-ec64-46ec-9aa3-9ad2a5ffdea9",
   "metadata": {},
   "outputs": [],
   "source": [
    "train_data = pd.read_csv('~/input/data/train/new_train.tsv', sep='\\t', header=None)\n",
    "eval_data = pd.read_csv('~/input/data/train/val_train.tsv', sep='\\t', header=None)\n",
    "with open('/opt/ml/input/data/label_type.pkl', 'rb') as f:\n",
    "    label_type = pickle.load(f)\n",
    "\n",
    "eval_data = preprocessing_dataset(eval_data, label_type)\n",
    "tokenized_data = tokenized_dataset(eval_data, tokenizer)\n",
    "eval_dataset = dataset(tokenized_data, eval_data['label'])\n",
    "\n",
    "data_loader = DataLoader(eval_dataset, \n",
    "                         batch_size=40,\n",
    "                         shuffle=False)"
   ]
  },
  {
   "cell_type": "markdown",
   "id": "ce3093d0-eb3f-4070-81e5-797c17dd6562",
   "metadata": {},
   "source": [
    "val 데이타 추론"
   ]
  },
  {
   "cell_type": "code",
   "execution_count": 63,
   "id": "f03fd29b-c96b-4328-8691-c50406b101ed",
   "metadata": {},
   "outputs": [
    {
     "data": {
      "application/vnd.jupyter.widget-view+json": {
       "model_id": "a9f4a362958a4265ac2798462d1e9edf",
       "version_major": 2,
       "version_minor": 0
      },
      "text/plain": [
       "HBox(children=(FloatProgress(value=0.0, max=45.0), HTML(value='')))"
      ]
     },
     "metadata": {},
     "output_type": "display_data"
    },
    {
     "name": "stderr",
     "output_type": "stream",
     "text": [
      "/opt/conda/lib/python3.7/site-packages/ipykernel_launcher.py:7: UserWarning: To copy construct from a tensor, it is recommended to use sourceTensor.clone().detach() or sourceTensor.clone().detach().requires_grad_(True), rather than torch.tensor(sourceTensor).\n",
      "  import sys\n"
     ]
    },
    {
     "name": "stdout",
     "output_type": "stream",
     "text": [
      "\n"
     ]
    }
   ],
   "source": [
    "model.eval()\n",
    "outputs = []\n",
    "labels = []\n",
    "for data in tqdm(data_loader):\n",
    "    with torch.no_grad():\n",
    "        output = model(\n",
    "            input_ids=data['input_ids'].to('cuda'),\n",
    "            attention_mask=data['attention_mask'].to('cuda'),\n",
    "        )\n",
    "        logits = output[0]\n",
    "        logits = logits.detach().cpu().numpy()\n",
    "    result = np.argmax(logits, axis=-1)\n",
    "    labels.append(data['labels'].cpu().numpy())\n",
    "    outputs.append(result)\n",
    "\n",
    "inference = np.array(outputs).flatten()\n",
    "labels = np.array(labels).flatten()"
   ]
  },
  {
   "cell_type": "markdown",
   "id": "17b023dd-eaf9-44ad-9ce9-ef83dfa402ed",
   "metadata": {},
   "source": [
    "각 레이블별 정답률 확인"
   ]
  },
  {
   "cell_type": "code",
   "execution_count": 68,
   "id": "e576ea01-685f-470e-8c39-55a709c314bb",
   "metadata": {},
   "outputs": [],
   "source": [
    "temp = []\n",
    "for vals in inference:\n",
    "    for val in vals:\n",
    "        temp.append(val)\n",
    "inference = np.array(temp)\n",
    "\n",
    "temp = []\n",
    "for vals in labels:\n",
    "    for val in vals:\n",
    "        temp.append(val)\n",
    "labels = np.array(temp)\n",
    "\n",
    "num_ans_dict = Counter(labels)\n",
    "accuracy_dict = {}\n",
    "\n",
    "for i in range(42):\n",
    "    ans_idx = [ idx for idx, ans in enumerate(labels) if ans == i ]\n",
    "    if len(ans_idx) == 0: continue\n",
    "    temp_array = inference[ans_idx]\n",
    "    accuracy_dict[i] = len(temp_array[temp_array==i]) / len(temp_array)"
   ]
  },
  {
   "cell_type": "markdown",
   "id": "d1ed8b16-3103-47a5-9493-cf7c28575a24",
   "metadata": {},
   "source": [
    "train 데이터의 각 레이블 수 및 각 레이블 별 정답률"
   ]
  },
  {
   "cell_type": "code",
   "execution_count": 112,
   "id": "56386504-deba-46e0-8c93-7a759a70d6e3",
   "metadata": {},
   "outputs": [
    {
     "data": {
      "text/plain": [
       "<matplotlib.collections.PathCollection at 0x7f86d4658450>"
      ]
     },
     "execution_count": 112,
     "metadata": {},
     "output_type": "execute_result"
    },
    {
     "data": {
      "image/png": "[encoded data removed]",
      "text/plain": [
       "<Figure size 432x288 with 1 Axes>"
      ]
     },
     "metadata": {
      "needs_background": "light"
     },
     "output_type": "display_data"
    }
   ],
   "source": [
    "train_label_num = {}\n",
    "for label in label_type:\n",
    "    train_label_num[label_type[label]] = len(train_data[train_data[8]==label])\n",
    "\n",
    "x = [train_label_num[idx] for idx in accuracy_dict]\n",
    "y = [accuracy_dict[idx] for idx in accuracy_dict]\n",
    "\n",
    "plt.scatter(x[1:],y[1:])"
   ]
  },
  {
   "cell_type": "code",
   "execution_count": 125,
   "id": "39926718-bef9-4118-b9c0-b5058f838788",
   "metadata": {},
   "outputs": [
    {
     "name": "stdout",
     "output_type": "stream",
     "text": [
      "0 0.8069977426636569 3546\n",
      "1 0.7222222222222222 74\n",
      "2 0.9 443\n",
      "4 0.8088235294117647 547\n",
      "5 0.5675675675675675 149\n",
      "6 0.782608695652174 185\n",
      "7 0.7560975609756098 168\n",
      "8 0.8125 132\n",
      "9 0.7391304347826086 92\n",
      "10 0.852760736196319 652\n",
      "15 0.6567164179104478 268\n",
      "17 0.7941176470588235 137\n",
      "20 0.7037037037037037 108\n",
      "24 0.7 83\n"
     ]
    }
   ],
   "source": [
    "over_100_list = []\n",
    "for idx in train_label_num:\n",
    "    if train_label_num[idx] > 70:\n",
    "        over_100_list.append(idx)\n",
    "\n",
    "for idx in over_100_list:\n",
    "    print(idx, accuracy_dict[idx], train_label_num[idx])"
   ]
  },
  {
   "cell_type": "code",
   "execution_count": 118,
   "id": "c744bd4c-8faa-4765-a0f3-16cc097a9f00",
   "metadata": {},
   "outputs": [
    {
     "data": {
      "text/plain": [
       "{'관계_없음': 0,\n",
       " '인물:배우자': 1,\n",
       " '인물:직업/직함': 2,\n",
       " '단체:모회사': 3,\n",
       " '인물:소속단체': 4,\n",
       " '인물:동료': 5,\n",
       " '단체:별칭': 6,\n",
       " '인물:출신성분/국적': 7,\n",
       " '인물:부모님': 8,\n",
       " '단체:본사_국가': 9,\n",
       " '단체:구성원': 10,\n",
       " '인물:기타_친족': 11,\n",
       " '단체:창립자': 12,\n",
       " '단체:주주': 13,\n",
       " '인물:사망_일시': 14,\n",
       " '단체:상위_단체': 15,\n",
       " '단체:본사_주(도)': 16,\n",
       " '단체:제작': 17,\n",
       " '인물:사망_원인': 18,\n",
       " '인물:출생_도시': 19,\n",
       " '단체:본사_도시': 20,\n",
       " '인물:자녀': 21,\n",
       " '인물:제작': 22,\n",
       " '단체:하위_단체': 23,\n",
       " '인물:별칭': 24,\n",
       " '인물:형제/자매/남매': 25,\n",
       " '인물:출생_국가': 26,\n",
       " '인물:출생_일시': 27,\n",
       " '단체:구성원_수': 28,\n",
       " '단체:자회사': 29,\n",
       " '인물:거주_주(도)': 30,\n",
       " '단체:해산일': 31,\n",
       " '인물:거주_도시': 32,\n",
       " '단체:창립일': 33,\n",
       " '인물:종교': 34,\n",
       " '인물:거주_국가': 35,\n",
       " '인물:용의자': 36,\n",
       " '인물:사망_도시': 37,\n",
       " '단체:정치/종교성향': 38,\n",
       " '인물:학교': 39,\n",
       " '인물:사망_국가': 40,\n",
       " '인물:나이': 41}"
      ]
     },
     "execution_count": 118,
     "metadata": {},
     "output_type": "execute_result"
    }
   ],
   "source": [
    "label_type"
   ]
  },
  {
   "cell_type": "code",
   "execution_count": null,
   "id": "67ec719f-07a9-498f-b77d-a068fb098ad6",
   "metadata": {},
   "outputs": [],
   "source": []
  }
 ],
 "metadata": {
  "kernelspec": {
   "display_name": "Python 3",
   "language": "python",
   "name": "python3"
  },
  "language_info": {
   "codemirror_mode": {
    "name": "ipython",
    "version": 3
   },
   "file_extension": ".py",
   "mimetype": "text/x-python",
   "name": "python",
   "nbconvert_exporter": "python",
   "pygments_lexer": "ipython3",
   "version": "3.7.7"
  }
 },
 "nbformat": 4,
 "nbformat_minor": 5
}
