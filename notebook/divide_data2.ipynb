{
 "cells": [
  {
   "cell_type": "code",
   "execution_count": 2,
   "id": "f7f9d35a-8338-4222-850a-541d85e83d13",
   "metadata": {},
   "outputs": [],
   "source": [
    "import matplotlib.pyplot as plt\n",
    "import pandas as pd\n",
    "import numpy as np\n",
    "import pickle"
   ]
  },
  {
   "cell_type": "code",
   "execution_count": 5,
   "id": "aaa0e9ed-d1e1-4d83-9d6b-b0c2f055b0e0",
   "metadata": {},
   "outputs": [
    {
     "data": {
      "text/html": [
       "<div>\n",
       "<style scoped>\n",
       "    .dataframe tbody tr th:only-of-type {\n",
       "        vertical-align: middle;\n",
       "    }\n",
       "\n",
       "    .dataframe tbody tr th {\n",
       "        vertical-align: top;\n",
       "    }\n",
       "\n",
       "    .dataframe thead th {\n",
       "        text-align: right;\n",
       "    }\n",
       "</style>\n",
       "<table border=\"1\" class=\"dataframe\">\n",
       "  <thead>\n",
       "    <tr style=\"text-align: right;\">\n",
       "      <th></th>\n",
       "      <th>sentence</th>\n",
       "      <th>entity_01</th>\n",
       "      <th>entity_02</th>\n",
       "      <th>label</th>\n",
       "    </tr>\n",
       "  </thead>\n",
       "  <tbody>\n",
       "    <tr>\n",
       "      <th>0</th>\n",
       "      <td>영국에서 사용되는 스포츠 유틸리티 @ α ARTIFACT α 자동차@의 브랜드로는 ...</td>\n",
       "      <td>랜드로버</td>\n",
       "      <td>자동차</td>\n",
       "      <td>17</td>\n",
       "    </tr>\n",
       "    <tr>\n",
       "      <th>1</th>\n",
       "      <td>선거에서 # β ORGANIZATION β 민주당#은 해산 전 의석인 230석에 한...</td>\n",
       "      <td>민주당</td>\n",
       "      <td>27석</td>\n",
       "      <td>0</td>\n",
       "    </tr>\n",
       "    <tr>\n",
       "      <th>2</th>\n",
       "      <td># β ORGANIZATION β 유럽 축구 연맹#(@ α ORGANIZATION ...</td>\n",
       "      <td>유럽 축구 연맹</td>\n",
       "      <td>UEFA</td>\n",
       "      <td>6</td>\n",
       "    </tr>\n",
       "    <tr>\n",
       "      <th>3</th>\n",
       "      <td>용병 @ α CIVILIZATION α 공격수@ 챠디의 부진과 시즌 초 활약한 # ...</td>\n",
       "      <td>강수일</td>\n",
       "      <td>공격수</td>\n",
       "      <td>2</td>\n",
       "    </tr>\n",
       "    <tr>\n",
       "      <th>4</th>\n",
       "      <td># β LOCATION β 람캄행# 왕은 1237년에서 1247년 사이 수코타이의 ...</td>\n",
       "      <td>람캄행</td>\n",
       "      <td>퍼쿤 씨 인트라팃</td>\n",
       "      <td>8</td>\n",
       "    </tr>\n",
       "  </tbody>\n",
       "</table>\n",
       "</div>"
      ],
      "text/plain": [
       "                                            sentence entity_01  entity_02  \\\n",
       "0  영국에서 사용되는 스포츠 유틸리티 @ α ARTIFACT α 자동차@의 브랜드로는 ...      랜드로버        자동차   \n",
       "1  선거에서 # β ORGANIZATION β 민주당#은 해산 전 의석인 230석에 한...       민주당        27석   \n",
       "2  # β ORGANIZATION β 유럽 축구 연맹#(@ α ORGANIZATION ...  유럽 축구 연맹       UEFA   \n",
       "3  용병 @ α CIVILIZATION α 공격수@ 챠디의 부진과 시즌 초 활약한 # ...       강수일        공격수   \n",
       "4  # β LOCATION β 람캄행# 왕은 1237년에서 1247년 사이 수코타이의 ...       람캄행  퍼쿤 씨 인트라팃   \n",
       "\n",
       "   label  \n",
       "0     17  \n",
       "1      0  \n",
       "2      6  \n",
       "3      2  \n",
       "4      8  "
      ]
     },
     "execution_count": 5,
     "metadata": {},
     "output_type": "execute_result"
    }
   ],
   "source": [
    "data = pd.read_csv('~/input/data/train/ner_train_ver2.tsv', sep='\\t')\n",
    "data.head()"
   ]
  },
  {
   "cell_type": "code",
   "execution_count": 7,
   "id": "5a80ad3f-93aa-4fb5-94d8-a5dc82cdc906",
   "metadata": {},
   "outputs": [
    {
     "data": {
      "text/plain": [
       "array([17,  0,  6,  2,  8,  3, 10,  4, 16, 20,  7, 15,  5, 25, 39, 19, 34,\n",
       "       13, 35, 30, 11,  9, 27,  1, 24, 22, 21, 14, 31, 33, 12, 23, 32, 18,\n",
       "       38, 26, 37, 29, 36, 28, 41, 40])"
      ]
     },
     "execution_count": 7,
     "metadata": {},
     "output_type": "execute_result"
    }
   ],
   "source": [
    "unique_data = data['label'].unique()\n",
    "unique_data"
   ]
  },
  {
   "cell_type": "code",
   "execution_count": 9,
   "id": "31b821cb-0db2-490f-8831-3773eb0f7a20",
   "metadata": {},
   "outputs": [
    {
     "data": {
      "text/plain": [
       "{17: 165,\n",
       " 0: 4441,\n",
       " 6: 231,\n",
       " 2: 553,\n",
       " 8: 164,\n",
       " 3: 44,\n",
       " 10: 815,\n",
       " 4: 679,\n",
       " 16: 23,\n",
       " 20: 136,\n",
       " 7: 209,\n",
       " 15: 335,\n",
       " 5: 186,\n",
       " 25: 52,\n",
       " 39: 9,\n",
       " 19: 4,\n",
       " 34: 15,\n",
       " 13: 11,\n",
       " 35: 27,\n",
       " 30: 12,\n",
       " 11: 58,\n",
       " 9: 115,\n",
       " 27: 36,\n",
       " 1: 92,\n",
       " 24: 103,\n",
       " 22: 56,\n",
       " 21: 84,\n",
       " 14: 45,\n",
       " 31: 15,\n",
       " 33: 67,\n",
       " 12: 45,\n",
       " 23: 80,\n",
       " 32: 26,\n",
       " 18: 7,\n",
       " 38: 18,\n",
       " 26: 8,\n",
       " 37: 3,\n",
       " 29: 5,\n",
       " 36: 11,\n",
       " 28: 9,\n",
       " 41: 5,\n",
       " 40: 1}"
      ]
     },
     "execution_count": 9,
     "metadata": {},
     "output_type": "execute_result"
    }
   ],
   "source": [
    "label_num_counter = {}\n",
    "for k in unique_data:\n",
    "    label_num_counter[k] = len(data[data['label']==k])\n",
    "label_num_counter"
   ]
  },
  {
   "cell_type": "code",
   "execution_count": 10,
   "id": "37ec9b4d-8602-429a-bfcd-11d5809549ac",
   "metadata": {},
   "outputs": [
    {
     "data": {
      "image/png": "[encoded data removed]",
      "text/plain": [
       "<Figure size 432x288 with 1 Axes>"
      ]
     },
     "metadata": {
      "needs_background": "light"
     },
     "output_type": "display_data"
    }
   ],
   "source": [
    "label_num = label_num_counter.values()\n",
    "\n",
    "x = np.arange(len(label_num))\n",
    "plt.bar(x, label_num)\n",
    "plt.show()"
   ]
  },
  {
   "cell_type": "code",
   "execution_count": 11,
   "id": "e991d8f5-f4f0-4546-945c-fc3b51c77085",
   "metadata": {},
   "outputs": [
    {
     "name": "stdout",
     "output_type": "stream",
     "text": [
      "9000\n"
     ]
    },
    {
     "data": {
      "text/html": [
       "<div>\n",
       "<style scoped>\n",
       "    .dataframe tbody tr th:only-of-type {\n",
       "        vertical-align: middle;\n",
       "    }\n",
       "\n",
       "    .dataframe tbody tr th {\n",
       "        vertical-align: top;\n",
       "    }\n",
       "\n",
       "    .dataframe thead th {\n",
       "        text-align: right;\n",
       "    }\n",
       "</style>\n",
       "<table border=\"1\" class=\"dataframe\">\n",
       "  <thead>\n",
       "    <tr style=\"text-align: right;\">\n",
       "      <th></th>\n",
       "      <th>sentence</th>\n",
       "      <th>entity_01</th>\n",
       "      <th>entity_02</th>\n",
       "      <th>label</th>\n",
       "    </tr>\n",
       "  </thead>\n",
       "  <tbody>\n",
       "    <tr>\n",
       "      <th>0</th>\n",
       "      <td>이로써 드림웍스의 모든 사업군이 @ α ORGANIZATION α 컴캐스트@의 자회...</td>\n",
       "      <td>드림웍스</td>\n",
       "      <td>컴캐스트</td>\n",
       "      <td>3</td>\n",
       "    </tr>\n",
       "    <tr>\n",
       "      <th>1</th>\n",
       "      <td>2013년 7월 4일 교황 @ α PERSON α 프란치스코@는 공식적으로 # β ...</td>\n",
       "      <td>요한 바오로 2세</td>\n",
       "      <td>프란치스코</td>\n",
       "      <td>0</td>\n",
       "    </tr>\n",
       "    <tr>\n",
       "      <th>2</th>\n",
       "      <td>그리고 @ α ARTIFACT α 리그 오브 레전드@ 월드 챔피언십 2018에서 K...</td>\n",
       "      <td>아프리카 프릭스</td>\n",
       "      <td>리그 오브 레전드</td>\n",
       "      <td>15</td>\n",
       "    </tr>\n",
       "    <tr>\n",
       "      <th>3</th>\n",
       "      <td>그가 공식적인 데뷔를 한 것은 # β O β 조#@ α CIVILIZATION α ...</td>\n",
       "      <td>조</td>\n",
       "      <td>PD</td>\n",
       "      <td>2</td>\n",
       "    </tr>\n",
       "    <tr>\n",
       "      <th>4</th>\n",
       "      <td>@ α ARTIFACT α 영웅문@은 인터넷 증권사 # β ORGANIZATION ...</td>\n",
       "      <td>키움증권</td>\n",
       "      <td>영웅문</td>\n",
       "      <td>17</td>\n",
       "    </tr>\n",
       "  </tbody>\n",
       "</table>\n",
       "</div>"
      ],
      "text/plain": [
       "                                            sentence  entity_01  entity_02  \\\n",
       "0  이로써 드림웍스의 모든 사업군이 @ α ORGANIZATION α 컴캐스트@의 자회...       드림웍스       컴캐스트   \n",
       "1  2013년 7월 4일 교황 @ α PERSON α 프란치스코@는 공식적으로 # β ...  요한 바오로 2세      프란치스코   \n",
       "2  그리고 @ α ARTIFACT α 리그 오브 레전드@ 월드 챔피언십 2018에서 K...   아프리카 프릭스  리그 오브 레전드   \n",
       "3  그가 공식적인 데뷔를 한 것은 # β O β 조#@ α CIVILIZATION α ...          조         PD   \n",
       "4  @ α ARTIFACT α 영웅문@은 인터넷 증권사 # β ORGANIZATION ...       키움증권        영웅문   \n",
       "\n",
       "   label  \n",
       "0      3  \n",
       "1      0  \n",
       "2     15  \n",
       "3      2  \n",
       "4     17  "
      ]
     },
     "execution_count": 11,
     "metadata": {},
     "output_type": "execute_result"
    }
   ],
   "source": [
    "train_data = pd.DataFrame()\n",
    "validation_data = pd.DataFrame()\n",
    "for k in unique_data:\n",
    "    temp_data = data[data['label']==k]\n",
    "    validation_data = validation_data.append(temp_data[:len(temp_data)//5])\n",
    "    train_data = train_data.append(temp_data[len(temp_data)//5:])\n",
    "\n",
    "train_data = train_data.sample(frac=1).reset_index(drop=True)\n",
    "validation_data = validation_data.sample(frac=1).reset_index(drop=True)\n",
    "\n",
    "print(len(train_data) + len(validation_data))\n",
    "\n",
    "train_data.head()\n",
    "validation_data.head()"
   ]
  },
  {
   "cell_type": "code",
   "execution_count": 13,
   "id": "6b828688-96a2-43a7-9722-01a0efed91d4",
   "metadata": {},
   "outputs": [],
   "source": [
    "train_data.to_csv('~/input/data/train/new_train_ner.tsv', sep='\\t', header = True, index = False)\n",
    "validation_data.to_csv('~/input/data/train/val_train_ner.tsv', sep='\\t', header = True, index = False)"
   ]
  }
 ],
 "metadata": {
  "kernelspec": {
   "display_name": "Python 3",
   "language": "python",
   "name": "python3"
  },
  "language_info": {
   "codemirror_mode": {
    "name": "ipython",
    "version": 3
   },
   "file_extension": ".py",
   "mimetype": "text/x-python",
   "name": "python",
   "nbconvert_exporter": "python",
   "pygments_lexer": "ipython3",
   "version": "3.7.7"
  }
 },
 "nbformat": 4,
 "nbformat_minor": 5
}
