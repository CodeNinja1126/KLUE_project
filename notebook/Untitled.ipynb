{
 "cells": [
  {
   "cell_type": "code",
   "execution_count": 7,
   "id": "0a72bb15-ff80-4dad-88ec-58c510c41396",
   "metadata": {},
   "outputs": [
    {
     "name": "stdout",
     "output_type": "stream",
     "text": [
      "달리는 기차에는 중립이 없습니다. 이것은 미국 사회 운동가이자 역사가 하워드 진의 속담입니다.\n"
     ]
    },
    {
     "data": {
      "application/vnd.jupyter.widget-view+json": {
       "model_id": "4182eb486f3841aba7229788c787ad1c",
       "version_major": 2,
       "version_minor": 0
      },
      "text/plain": [
       "HBox(children=(FloatProgress(value=0.0, max=2.0), HTML(value='')))"
      ]
     },
     "metadata": {},
     "output_type": "display_data"
    },
    {
     "name": "stdout",
     "output_type": "stream",
     "text": [
      "\n",
      "['프로그램 개발이 완료되면 서비스가 진행됩니다.', '도움말을 보려면 --help를 입력하십시오.']\n"
     ]
    }
   ],
   "source": [
    "from ktextaug import TextAugmentation\n",
    "\n",
    "sample_text = '달리는 기차 위에 중립은 없다. 미국의 사회 운동가이자 역사학자인 하워드 진이 남긴 격언이다.'\n",
    "sample_texts = ['프로그램 개발이 끝나고 서비스가 진행된다.', '도움말을 보고 싶다면 --help를 입력하면 된다.']\n",
    "\n",
    "agent = TextAugmentation(tokenizer=\"mecab\", num_processes=1)   # numprocess 가 -1 일시 자동으로 가능한 process의 절반으로 할당\n",
    "print(agent.generate(sample_text))          # default is backtranslation\n",
    "print(agent.generate(sample_texts))"
   ]
  },
  {
   "cell_type": "code",
   "execution_count": 11,
   "id": "f9869a1a-ea24-45ce-9355-fb4a506eec66",
   "metadata": {},
   "outputs": [
    {
     "name": "stdout",
     "output_type": "stream",
     "text": [
      "1592 년 김시민이 일본군에 의해 암살되었을 때 경상 우도 병사 겸 순찰 관 김성일 (金 誠 一)이 진주 목사로 선출되었다. 1199 년 3 월 10 일 Imre는 Undrasi를 지원 한 Boleszló Bach 감독으로부터 자신의 음모를 증명하는 문서를 입수했습니다.\n"
     ]
    }
   ],
   "source": [
    "print(agent.generate('1592년 김시민이 왜병에게 암살당하자 경상우도병마절도사 겸 순찰사 김성일(金誠一)에게 발탁되어 진주목사가 되었다. 1199년 3월 10일 임레는 언드라시를 지지했던 볼레슬로(Boleszló) 바치 주교로부터 자신에 대한 음모를 증명하는 문서를 입수했다.'))"
   ]
  },
  {
   "cell_type": "code",
   "execution_count": null,
   "id": "3205c5fa-f598-47bd-aa04-28c679e90a4e",
   "metadata": {},
   "outputs": [],
   "source": []
  }
 ],
 "metadata": {
  "kernelspec": {
   "display_name": "Python 3",
   "language": "python",
   "name": "python3"
  },
  "language_info": {
   "codemirror_mode": {
    "name": "ipython",
    "version": 3
   },
   "file_extension": ".py",
   "mimetype": "text/x-python",
   "name": "python",
   "nbconvert_exporter": "python",
   "pygments_lexer": "ipython3",
   "version": "3.7.7"
  }
 },
 "nbformat": 4,
 "nbformat_minor": 5
}
